{
 "cells": [
  {
   "cell_type": "markdown",
   "id": "926d13de",
   "metadata": {},
   "source": [
    "## Lab | Inferential statistics - T-test & P-value\n",
    "\n",
    "Libraries."
   ]
  },
  {
   "cell_type": "code",
   "execution_count": 8,
   "id": "28e1c761",
   "metadata": {},
   "outputs": [],
   "source": [
    "import pandas as pd\n",
    "import numpy as np\n",
    "import scipy.stats as st\n",
    "import matplotlib.pyplot as plt\n",
    "import seaborn as sns"
   ]
  },
  {
   "cell_type": "markdown",
   "id": "c261ccb5",
   "metadata": {},
   "source": [
    "#### Exercise 1: One tailed t-test\n",
    "\n",
    "In a packing plant, a machine packs cartons with jars. It is supposed that a new machine will pack faster on the average than the machine currently used. To test that hypothesis, the times it takes each machine to pack ten cartons are recorded. The results, in seconds, are shown in the tables in the file files_for_lab/machine.txt. Assume that there is sufficient evidence to conduct the t test, does the data provide sufficient evidence to show if one machine is better than the other?"
   ]
  },
  {
   "cell_type": "code",
   "execution_count": 16,
   "id": "1f87dc3f",
   "metadata": {},
   "outputs": [
    {
     "name": "stdout",
     "output_type": "stream",
     "text": [
      "Shape: (10, 2)\n"
     ]
    },
    {
     "data": {
      "text/html": [
       "<div>\n",
       "<style scoped>\n",
       "    .dataframe tbody tr th:only-of-type {\n",
       "        vertical-align: middle;\n",
       "    }\n",
       "\n",
       "    .dataframe tbody tr th {\n",
       "        vertical-align: top;\n",
       "    }\n",
       "\n",
       "    .dataframe thead th {\n",
       "        text-align: right;\n",
       "    }\n",
       "</style>\n",
       "<table border=\"1\" class=\"dataframe\">\n",
       "  <thead>\n",
       "    <tr style=\"text-align: right;\">\n",
       "      <th></th>\n",
       "      <th>New machine</th>\n",
       "      <th>Old machine</th>\n",
       "    </tr>\n",
       "  </thead>\n",
       "  <tbody>\n",
       "    <tr>\n",
       "      <th>0</th>\n",
       "      <td>42.1</td>\n",
       "      <td>42.7</td>\n",
       "    </tr>\n",
       "    <tr>\n",
       "      <th>1</th>\n",
       "      <td>41.0</td>\n",
       "      <td>43.6</td>\n",
       "    </tr>\n",
       "    <tr>\n",
       "      <th>2</th>\n",
       "      <td>41.3</td>\n",
       "      <td>43.8</td>\n",
       "    </tr>\n",
       "    <tr>\n",
       "      <th>3</th>\n",
       "      <td>41.8</td>\n",
       "      <td>43.3</td>\n",
       "    </tr>\n",
       "    <tr>\n",
       "      <th>4</th>\n",
       "      <td>42.4</td>\n",
       "      <td>42.5</td>\n",
       "    </tr>\n",
       "  </tbody>\n",
       "</table>\n",
       "</div>"
      ],
      "text/plain": [
       "   New machine      Old machine\n",
       "0         42.1             42.7\n",
       "1         41.0             43.6\n",
       "2         41.3             43.8\n",
       "3         41.8             43.3\n",
       "4         42.4             42.5"
      ]
     },
     "execution_count": 16,
     "metadata": {},
     "output_type": "execute_result"
    }
   ],
   "source": [
    "machine = pd.read_csv('files_for_lab/machine.txt', sep='\\t', encoding='utf-16')\n",
    "print('Shape:', machine.shape)\n",
    "machine.head()"
   ]
  },
  {
   "cell_type": "markdown",
   "id": "1b34e6f0",
   "metadata": {},
   "source": [
    "We will compare **two independent samples** (because the new machine performance is not related to the old machine performance). Our hypothesis is the following:\n",
    "\n",
    "$$H0: \\mu_{secondsnew} < \\mu_{secondsold}$$\n",
    "$$H1: \\mu_{secondsnew} ≥ \\mu_{secondsold}$$\n",
    "\n",
    "The new machine will pack faster than the old one, that is: it will take less time (fewer seconds) for the new machine to pack cartons with jars than the old machine. \n",
    "\n",
    "* We will set the significance level at **0.05.**\n",
    "* The region of rejection will be on the **right-side.**\n",
    "* Our sample will be the whole data frame (that contains 10 rows)."
   ]
  },
  {
   "cell_type": "code",
   "execution_count": 43,
   "id": "3f956170",
   "metadata": {},
   "outputs": [],
   "source": [
    "sample = machine\n",
    "sample.head()\n",
    "sample = sample.rename(columns = {'    Old machine': 'Old machine'})"
   ]
  },
  {
   "cell_type": "code",
   "execution_count": 44,
   "id": "9f554685",
   "metadata": {},
   "outputs": [],
   "source": [
    "sample_new, sample_old = sample['New machine'], sample['Old machine']"
   ]
  },
  {
   "cell_type": "code",
   "execution_count": 45,
   "id": "8ccfa587",
   "metadata": {
    "scrolled": true
   },
   "outputs": [
    {
     "name": "stdout",
     "output_type": "stream",
     "text": [
      "The mean of sample new is 42.14\n",
      "The mean of sample old is 43.23\n",
      "The standard deviation of sample new is 0.68\n",
      "The standard deviation of sample old is 0.75\n",
      "The ratio of the sample variances is 0.91 which is bigger than 0.5 and smaller than 2\n",
      "The t statistic is: -4.74\n"
     ]
    }
   ],
   "source": [
    "sample_new_mean, sample_old_mean = sample_new.mean(), sample_old.mean()\n",
    "sample_new_std, sample_old_std = sample_new.std(ddof=1), sample_old.std(ddof=1)\n",
    "sp = ( len(sample_new) - 1 ) * ( sample_new_std**2 ) +  ( len(sample_old) - 1 ) * ( sample_old_std**2 )\n",
    "sp /= ( len(sample_new) + len(sample_old) - 2)\n",
    "r = np.sqrt( (1/len(sample_new)) + (1/len(sample_old)) )\n",
    "t = (sample_new_mean - sample_old_mean)/ (sp * r)\n",
    "\n",
    "print(\"The mean of sample new is {:.2f}\".format(sample_new_mean))\n",
    "print(\"The mean of sample old is {:.2f}\".format(sample_old_mean))\n",
    "print(\"The standard deviation of sample new is {:.2f}\".format(sample_new_std))\n",
    "print(\"The standard deviation of sample old is {:.2f}\".format(sample_old_std))\n",
    "print(\"The ratio of the sample variances is {:.2f} which is bigger than 0.5 and smaller than 2\".format(sample_new_std/sample_old_std))\n",
    "print(\"The t statistic is: {:.2f}\".format(t))"
   ]
  },
  {
   "cell_type": "markdown",
   "id": "282c3618",
   "metadata": {},
   "source": [
    "Calculate critical value and p-value:"
   ]
  },
  {
   "cell_type": "code",
   "execution_count": 65,
   "id": "0ddeb9c8",
   "metadata": {
    "scrolled": true
   },
   "outputs": [
    {
     "name": "stdout",
     "output_type": "stream",
     "text": [
      "Critical value: 1.734\n",
      "P-value: 0.021169\n"
     ]
    }
   ],
   "source": [
    "print('Critical value:', round(st.t.ppf(1-(0.05),df = len(sample_new)+len(sample_old)-2),3))\n",
    "print('P-value:', round(st.t.cdf(t,df = len(sample_new)+len(sample_old)-2),6))"
   ]
  },
  {
   "cell_type": "markdown",
   "id": "e9dc5731",
   "metadata": {},
   "source": [
    "According to these results, we'll **reject the null hypothesis.**"
   ]
  },
  {
   "cell_type": "markdown",
   "id": "630fe4f2",
   "metadata": {},
   "source": [
    "# ................................................................................................. # "
   ]
  },
  {
   "cell_type": "markdown",
   "id": "bc8c126b",
   "metadata": {},
   "source": [
    "#### Exercise 2: Matched Pairs Test\n",
    "In this challenge we will compare dependent samples of data describing our Pokemon (file files_for_lab/pokemon.csv). Our goal is to see whether there is a significant difference between each Pokemon's defense and attack scores. Our hypothesis is that the defense and attack scores are equal. Compare the two columns to see if there is a statistically significant difference between them and comment your result."
   ]
  },
  {
   "cell_type": "code",
   "execution_count": 33,
   "id": "b54c9fc8",
   "metadata": {},
   "outputs": [
    {
     "name": "stdout",
     "output_type": "stream",
     "text": [
      "Shape: (800, 13)\n"
     ]
    },
    {
     "data": {
      "text/html": [
       "<div>\n",
       "<style scoped>\n",
       "    .dataframe tbody tr th:only-of-type {\n",
       "        vertical-align: middle;\n",
       "    }\n",
       "\n",
       "    .dataframe tbody tr th {\n",
       "        vertical-align: top;\n",
       "    }\n",
       "\n",
       "    .dataframe thead th {\n",
       "        text-align: right;\n",
       "    }\n",
       "</style>\n",
       "<table border=\"1\" class=\"dataframe\">\n",
       "  <thead>\n",
       "    <tr style=\"text-align: right;\">\n",
       "      <th></th>\n",
       "      <th>#</th>\n",
       "      <th>Name</th>\n",
       "      <th>Type 1</th>\n",
       "      <th>Type 2</th>\n",
       "      <th>Total</th>\n",
       "      <th>HP</th>\n",
       "      <th>Attack</th>\n",
       "      <th>Defense</th>\n",
       "      <th>Sp. Atk</th>\n",
       "      <th>Sp. Def</th>\n",
       "      <th>Speed</th>\n",
       "      <th>Generation</th>\n",
       "      <th>Legendary</th>\n",
       "    </tr>\n",
       "  </thead>\n",
       "  <tbody>\n",
       "    <tr>\n",
       "      <th>0</th>\n",
       "      <td>1</td>\n",
       "      <td>Bulbasaur</td>\n",
       "      <td>Grass</td>\n",
       "      <td>Poison</td>\n",
       "      <td>318</td>\n",
       "      <td>45</td>\n",
       "      <td>49</td>\n",
       "      <td>49</td>\n",
       "      <td>65</td>\n",
       "      <td>65</td>\n",
       "      <td>45</td>\n",
       "      <td>1</td>\n",
       "      <td>False</td>\n",
       "    </tr>\n",
       "    <tr>\n",
       "      <th>1</th>\n",
       "      <td>2</td>\n",
       "      <td>Ivysaur</td>\n",
       "      <td>Grass</td>\n",
       "      <td>Poison</td>\n",
       "      <td>405</td>\n",
       "      <td>60</td>\n",
       "      <td>62</td>\n",
       "      <td>63</td>\n",
       "      <td>80</td>\n",
       "      <td>80</td>\n",
       "      <td>60</td>\n",
       "      <td>1</td>\n",
       "      <td>False</td>\n",
       "    </tr>\n",
       "    <tr>\n",
       "      <th>2</th>\n",
       "      <td>3</td>\n",
       "      <td>Venusaur</td>\n",
       "      <td>Grass</td>\n",
       "      <td>Poison</td>\n",
       "      <td>525</td>\n",
       "      <td>80</td>\n",
       "      <td>82</td>\n",
       "      <td>83</td>\n",
       "      <td>100</td>\n",
       "      <td>100</td>\n",
       "      <td>80</td>\n",
       "      <td>1</td>\n",
       "      <td>False</td>\n",
       "    </tr>\n",
       "    <tr>\n",
       "      <th>3</th>\n",
       "      <td>3</td>\n",
       "      <td>VenusaurMega Venusaur</td>\n",
       "      <td>Grass</td>\n",
       "      <td>Poison</td>\n",
       "      <td>625</td>\n",
       "      <td>80</td>\n",
       "      <td>100</td>\n",
       "      <td>123</td>\n",
       "      <td>122</td>\n",
       "      <td>120</td>\n",
       "      <td>80</td>\n",
       "      <td>1</td>\n",
       "      <td>False</td>\n",
       "    </tr>\n",
       "    <tr>\n",
       "      <th>4</th>\n",
       "      <td>4</td>\n",
       "      <td>Charmander</td>\n",
       "      <td>Fire</td>\n",
       "      <td>NaN</td>\n",
       "      <td>309</td>\n",
       "      <td>39</td>\n",
       "      <td>52</td>\n",
       "      <td>43</td>\n",
       "      <td>60</td>\n",
       "      <td>50</td>\n",
       "      <td>65</td>\n",
       "      <td>1</td>\n",
       "      <td>False</td>\n",
       "    </tr>\n",
       "  </tbody>\n",
       "</table>\n",
       "</div>"
      ],
      "text/plain": [
       "   #                   Name Type 1  Type 2  Total  HP  Attack  Defense  \\\n",
       "0  1              Bulbasaur  Grass  Poison    318  45      49       49   \n",
       "1  2                Ivysaur  Grass  Poison    405  60      62       63   \n",
       "2  3               Venusaur  Grass  Poison    525  80      82       83   \n",
       "3  3  VenusaurMega Venusaur  Grass  Poison    625  80     100      123   \n",
       "4  4             Charmander   Fire     NaN    309  39      52       43   \n",
       "\n",
       "   Sp. Atk  Sp. Def  Speed  Generation  Legendary  \n",
       "0       65       65     45           1      False  \n",
       "1       80       80     60           1      False  \n",
       "2      100      100     80           1      False  \n",
       "3      122      120     80           1      False  \n",
       "4       60       50     65           1      False  "
      ]
     },
     "execution_count": 33,
     "metadata": {},
     "output_type": "execute_result"
    }
   ],
   "source": [
    "pokemon = pd.read_csv('files_for_lab/pokemon.csv')\n",
    "print('Shape:', pokemon.shape)\n",
    "pokemon.head()"
   ]
  },
  {
   "cell_type": "markdown",
   "id": "2e05e65b",
   "metadata": {},
   "source": [
    "In this test, we will assume that the data in the two samples are dependent. The columns we'll compare are 'Attack' and 'Defense'. Our hypothesis is:\n",
    "\n",
    "$$H0: \\mu_{attack} = \\mu_{defense}$$\n",
    "$$H1: \\mu_{attack} \\neq \\mu_{defense}$$\n",
    "\n",
    "This is a two-sided test, therefore the rejection area will be located on **both sides.**\n",
    "\n",
    "* The significance level will be **0.05.**\n",
    "* We will pick a sample of **30 items.**"
   ]
  },
  {
   "cell_type": "code",
   "execution_count": 35,
   "id": "331bced5",
   "metadata": {},
   "outputs": [
    {
     "data": {
      "text/html": [
       "<div>\n",
       "<style scoped>\n",
       "    .dataframe tbody tr th:only-of-type {\n",
       "        vertical-align: middle;\n",
       "    }\n",
       "\n",
       "    .dataframe tbody tr th {\n",
       "        vertical-align: top;\n",
       "    }\n",
       "\n",
       "    .dataframe thead th {\n",
       "        text-align: right;\n",
       "    }\n",
       "</style>\n",
       "<table border=\"1\" class=\"dataframe\">\n",
       "  <thead>\n",
       "    <tr style=\"text-align: right;\">\n",
       "      <th></th>\n",
       "      <th>Attack</th>\n",
       "      <th>Defense</th>\n",
       "      <th>difference</th>\n",
       "    </tr>\n",
       "  </thead>\n",
       "  <tbody>\n",
       "    <tr>\n",
       "      <th>191</th>\n",
       "      <td>50</td>\n",
       "      <td>45</td>\n",
       "      <td>-5</td>\n",
       "    </tr>\n",
       "    <tr>\n",
       "      <th>654</th>\n",
       "      <td>60</td>\n",
       "      <td>70</td>\n",
       "      <td>10</td>\n",
       "    </tr>\n",
       "    <tr>\n",
       "      <th>750</th>\n",
       "      <td>150</td>\n",
       "      <td>50</td>\n",
       "      <td>-100</td>\n",
       "    </tr>\n",
       "    <tr>\n",
       "      <th>407</th>\n",
       "      <td>95</td>\n",
       "      <td>100</td>\n",
       "      <td>5</td>\n",
       "    </tr>\n",
       "    <tr>\n",
       "      <th>349</th>\n",
       "      <td>140</td>\n",
       "      <td>70</td>\n",
       "      <td>-70</td>\n",
       "    </tr>\n",
       "  </tbody>\n",
       "</table>\n",
       "</div>"
      ],
      "text/plain": [
       "     Attack  Defense  difference\n",
       "191      50       45          -5\n",
       "654      60       70          10\n",
       "750     150       50        -100\n",
       "407      95      100           5\n",
       "349     140       70         -70"
      ]
     },
     "execution_count": 35,
     "metadata": {},
     "output_type": "execute_result"
    }
   ],
   "source": [
    "pokemon_sample = pokemon[['Attack', 'Defense']].sample(30)\n",
    "pokemon_sample['difference'] = pokemon_sample['Defense']-pokemon_sample['Attack']\n",
    "pokemon_sample.head()"
   ]
  },
  {
   "cell_type": "code",
   "execution_count": 57,
   "id": "7466c81b",
   "metadata": {},
   "outputs": [
    {
     "name": "stdout",
     "output_type": "stream",
     "text": [
      "Mean: -15.37 \n",
      "Std: 38.52\n"
     ]
    }
   ],
   "source": [
    "pokemon_sample_mean, pokemon_sample_std = pokemon_sample['difference'].mean(), pokemon_sample['difference'].std(ddof=1)\n",
    "print('Mean:', round(pokemon_sample_mean,2), '\\nStd:', round(pokemon_sample_std,2))"
   ]
  },
  {
   "cell_type": "code",
   "execution_count": 56,
   "id": "013b76b2",
   "metadata": {},
   "outputs": [
    {
     "name": "stdout",
     "output_type": "stream",
     "text": [
      "The mean of our samples differences is: -15.37\n",
      "The standard deviation of our samples differences is: 38.52\n",
      "Our t statistics is: -2.19\n"
     ]
    }
   ],
   "source": [
    "t = pokemon_sample_mean / ( pokemon_sample_std / np.sqrt(pokemon_sample.shape[0]) )\n",
    "print(\"The mean of our samples differences is: {:.2f}\".format(pokemon_sample_mean))\n",
    "print(\"The standard deviation of our samples differences is: {:.2f}\".format(pokemon_sample_std))\n",
    "print(\"Our t statistics is: {:.2f}\".format(t))"
   ]
  },
  {
   "cell_type": "code",
   "execution_count": 71,
   "id": "8dba6fa2",
   "metadata": {},
   "outputs": [
    {
     "name": "stdout",
     "output_type": "stream",
     "text": [
      "Critical value: + 2.045 / - 2.045\n"
     ]
    }
   ],
   "source": [
    "tc = st.t.ppf(1-(0.05/2),df= pokemon_sample.shape[0] - 1)\n",
    "print('Critical value:', '+',round(tc,3), '/ -',round(tc,3))"
   ]
  },
  {
   "cell_type": "markdown",
   "id": "d067d826",
   "metadata": {},
   "source": [
    "Our statistic is -2.19 while the critical values are +2.045/-2.045. Then, as -2.19 < -2.045 **we should reject the H0.** Let's check the p-value."
   ]
  },
  {
   "cell_type": "code",
   "execution_count": 69,
   "id": "b76d33a2",
   "metadata": {},
   "outputs": [
    {
     "name": "stdout",
     "output_type": "stream",
     "text": [
      "P-value: 0.019\n"
     ]
    }
   ],
   "source": [
    "print('P-value:', round(st.t.cdf(t,df = pokemon_sample.shape[0] - 1),3))"
   ]
  },
  {
   "cell_type": "code",
   "execution_count": 42,
   "id": "69e39688",
   "metadata": {},
   "outputs": [
    {
     "data": {
      "text/plain": [
       "Ttest_relResult(statistic=-2.1851895751143076, pvalue=0.037100457353611976)"
      ]
     },
     "execution_count": 42,
     "metadata": {},
     "output_type": "execute_result"
    }
   ],
   "source": [
    "st.ttest_rel(pokemon_sample['Defense'],pokemon_sample['Attack'])"
   ]
  },
  {
   "cell_type": "markdown",
   "id": "ad43bbf5",
   "metadata": {},
   "source": [
    "Again, P-value is lower than 0.05, therefore we **reject the HO.**"
   ]
  },
  {
   "cell_type": "markdown",
   "id": "3282d08a",
   "metadata": {},
   "source": [
    "# ................................................................................................. # \n",
    "\n",
    "#### Exercise 3\n",
    "In this activity, we will look at another example. Your task is to understand the problem and write down all the steps to set up ANOVA. After the next lesson, we will ask you to solve this problem using Python. Here are the steps that you would need to work on: \n",
    "- Null hypothesis \n",
    "- Alternate hypothesis \n",
    "- Level of significance \n",
    "- Test statistic \n",
    "- P-value \n",
    "- F table"
   ]
  },
  {
   "cell_type": "markdown",
   "id": "00981046",
   "metadata": {},
   "source": [
    "##### Context\n",
    "\n",
    "Suppose you are working as an analyst in a microprocessor chip manufacturing plant. You have been given the task of analyzing a plasma etching process with respect to changing Power (in Watts) of the plasma beam. Data was collected and provided to you to conduct statistical analysis and check if changing the power of the plasma beam has any effect on the etching rate by the machine. You will conduct ANOVA and check if there is any difference in the mean etching rate for different levels of power. You can find the data anova_lab_data.xlsx file in the files_for_lab folder\n",
    "\n",
    "* State the null hypothesis\n",
    "* State the alternate hypothesis\n",
    "* What is the significance level\n",
    "* What are the degrees of freedom of model, error terms, and total DoF\n",
    "\n",
    "Data was collected randomly and provided to you in the table as shown: https://education-team-2020.s3-eu-west-1.amazonaws.com/data-analytics/7.05/7.05-lab_data.png"
   ]
  },
  {
   "cell_type": "markdown",
   "id": "fa87a51d",
   "metadata": {},
   "source": [
    "### Solution\n",
    "\n",
    "#### Hypothesis\n",
    "\n",
    "ANOVA test takes samples of more than two different populations and test if all the sample means are the same or not (no matter which pair of means is different). Therefore, our hypothesis is:\n",
    "\n",
    "$$H0: \\mu_{1}=\\mu_{2}=\\mu_{3}=⋯=\\mu_{n}$$\n",
    "$$H1: \\mu_{i}\\neq\\mu_{j}$$\n",
    "\n",
    "for any i,j\n",
    "\n",
    "#### Significance level\n",
    "The significance level will be 0.05.\n",
    "\n",
    "#### Degrees of freedom"
   ]
  },
  {
   "cell_type": "code",
   "execution_count": 9,
   "id": "8556cf09",
   "metadata": {},
   "outputs": [
    {
     "name": "stdout",
     "output_type": "stream",
     "text": [
      "Shape: (15, 2)\n"
     ]
    },
    {
     "data": {
      "text/html": [
       "<div>\n",
       "<style scoped>\n",
       "    .dataframe tbody tr th:only-of-type {\n",
       "        vertical-align: middle;\n",
       "    }\n",
       "\n",
       "    .dataframe tbody tr th {\n",
       "        vertical-align: top;\n",
       "    }\n",
       "\n",
       "    .dataframe thead th {\n",
       "        text-align: right;\n",
       "    }\n",
       "</style>\n",
       "<table border=\"1\" class=\"dataframe\">\n",
       "  <thead>\n",
       "    <tr style=\"text-align: right;\">\n",
       "      <th></th>\n",
       "      <th>Power</th>\n",
       "      <th>Etching Rate</th>\n",
       "    </tr>\n",
       "  </thead>\n",
       "  <tbody>\n",
       "    <tr>\n",
       "      <th>0</th>\n",
       "      <td>160 W</td>\n",
       "      <td>5.43</td>\n",
       "    </tr>\n",
       "    <tr>\n",
       "      <th>1</th>\n",
       "      <td>180 W</td>\n",
       "      <td>6.24</td>\n",
       "    </tr>\n",
       "    <tr>\n",
       "      <th>2</th>\n",
       "      <td>200 W</td>\n",
       "      <td>8.79</td>\n",
       "    </tr>\n",
       "    <tr>\n",
       "      <th>3</th>\n",
       "      <td>160 W</td>\n",
       "      <td>5.71</td>\n",
       "    </tr>\n",
       "    <tr>\n",
       "      <th>4</th>\n",
       "      <td>180 W</td>\n",
       "      <td>6.71</td>\n",
       "    </tr>\n",
       "  </tbody>\n",
       "</table>\n",
       "</div>"
      ],
      "text/plain": [
       "  Power   Etching Rate\n",
       "0  160 W          5.43\n",
       "1  180 W          6.24\n",
       "2  200 W          8.79\n",
       "3  160 W          5.71\n",
       "4  180 W          6.71"
      ]
     },
     "execution_count": 9,
     "metadata": {},
     "output_type": "execute_result"
    }
   ],
   "source": [
    "pbeam = pd.read_excel('files_for_lab/anova_lab_data.xlsx')\n",
    "print('Shape:', pbeam.shape)\n",
    "pbeam.head()"
   ]
  },
  {
   "cell_type": "code",
   "execution_count": 10,
   "id": "fd382ebc",
   "metadata": {},
   "outputs": [
    {
     "data": {
      "text/plain": [
       "Index(['Power', 'Etching Rate'], dtype='object')"
      ]
     },
     "execution_count": 10,
     "metadata": {},
     "output_type": "execute_result"
    }
   ],
   "source": [
    "pbeam = pbeam.rename(columns={'Power ': 'Power'})\n",
    "pbeam.columns"
   ]
  },
  {
   "cell_type": "code",
   "execution_count": 11,
   "id": "965eb236",
   "metadata": {},
   "outputs": [
    {
     "name": "stdout",
     "output_type": "stream",
     "text": [
      "N is: 15\n",
      "k is: 3\n"
     ]
    }
   ],
   "source": [
    "print('N is:', len(pbeam))\n",
    "print('k is:', len(pbeam['Power'].unique()))"
   ]
  },
  {
   "cell_type": "markdown",
   "id": "7ee492b1",
   "metadata": {},
   "source": [
    "Therefore, degrees of freedom are:\n",
    "* Total: N-1 / 15-1 = 14\n",
    "* Between samples: k-1 / 3-1 = 2\n",
    "* Within samples: n-k / 15 - 3 = 12"
   ]
  },
  {
   "cell_type": "markdown",
   "id": "82a8aa0d",
   "metadata": {},
   "source": [
    "#### In this section, use the Python to conduct ANOVA. What conclusions can you draw from the experiment and why?"
   ]
  },
  {
   "cell_type": "code",
   "execution_count": 12,
   "id": "2c4b3ada",
   "metadata": {
    "scrolled": false
   },
   "outputs": [
    {
     "data": {
      "text/html": [
       "<div>\n",
       "<style scoped>\n",
       "    .dataframe tbody tr th:only-of-type {\n",
       "        vertical-align: middle;\n",
       "    }\n",
       "\n",
       "    .dataframe tbody tr th {\n",
       "        vertical-align: top;\n",
       "    }\n",
       "\n",
       "    .dataframe thead th {\n",
       "        text-align: right;\n",
       "    }\n",
       "</style>\n",
       "<table border=\"1\" class=\"dataframe\">\n",
       "  <thead>\n",
       "    <tr style=\"text-align: right;\">\n",
       "      <th></th>\n",
       "      <th>Power</th>\n",
       "      <th>etching_mean</th>\n",
       "      <th>Samples</th>\n",
       "    </tr>\n",
       "  </thead>\n",
       "  <tbody>\n",
       "    <tr>\n",
       "      <th>0</th>\n",
       "      <td>160 W</td>\n",
       "      <td>5.792</td>\n",
       "      <td>5</td>\n",
       "    </tr>\n",
       "    <tr>\n",
       "      <th>1</th>\n",
       "      <td>180 W</td>\n",
       "      <td>6.238</td>\n",
       "      <td>5</td>\n",
       "    </tr>\n",
       "    <tr>\n",
       "      <th>2</th>\n",
       "      <td>200 W</td>\n",
       "      <td>8.318</td>\n",
       "      <td>5</td>\n",
       "    </tr>\n",
       "  </tbody>\n",
       "</table>\n",
       "</div>"
      ],
      "text/plain": [
       "   Power  etching_mean  Samples\n",
       "0  160 W         5.792        5\n",
       "1  180 W         6.238        5\n",
       "2  200 W         8.318        5"
      ]
     },
     "execution_count": 12,
     "metadata": {},
     "output_type": "execute_result"
    }
   ],
   "source": [
    "group_df = pbeam.groupby('Power')['Etching Rate'].agg(etching_mean='mean', Samples='size').reset_index()\n",
    "group_df"
   ]
  },
  {
   "cell_type": "markdown",
   "id": "c4bad28b",
   "metadata": {},
   "source": [
    "Calculate SST:"
   ]
  },
  {
   "cell_type": "code",
   "execution_count": 13,
   "id": "6d9baea7",
   "metadata": {},
   "outputs": [
    {
     "name": "stdout",
     "output_type": "stream",
     "text": [
      "The value of S2t is 9.09\n"
     ]
    }
   ],
   "source": [
    "S2t = 0\n",
    "for v in pbeam['Power'].unique():\n",
    "    ng = len(pbeam[pbeam['Power'] == v])  \n",
    "    S2t  += ( ( pbeam[pbeam['Power'] == v]['Etching Rate'].mean() - pbeam['Etching Rate'].mean() ) ** 2) * ng\n",
    "S2t /= ( pbeam['Power'].nunique() - 1 )\n",
    "print(\"The value of S2t is {:.2f}\".format(S2t)) "
   ]
  },
  {
   "cell_type": "markdown",
   "id": "07a950c9",
   "metadata": {},
   "source": [
    "Calculate SSE:"
   ]
  },
  {
   "cell_type": "code",
   "execution_count": 14,
   "id": "a5ac8e9f",
   "metadata": {},
   "outputs": [
    {
     "name": "stdout",
     "output_type": "stream",
     "text": [
      "\n",
      "The value of S2E is 0.25\n"
     ]
    }
   ],
   "source": [
    "S2E = 0\n",
    "for v in pbeam['Power'].unique():\n",
    "    for er in pbeam[pbeam['Power'] == v]['Etching Rate']:\n",
    "        S2E += ( er - pbeam[pbeam['Power'] == v]['Etching Rate'].mean() ) ** 2\n",
    "S2E /= ( len(pbeam) - pbeam['Power'].nunique() ) \n",
    "\n",
    "print()\n",
    "print(\"The value of S2E is {:.2f}\".format(S2E))"
   ]
  },
  {
   "cell_type": "code",
   "execution_count": 15,
   "id": "1e61e8ec",
   "metadata": {
    "scrolled": true
   },
   "outputs": [
    {
     "name": "stdout",
     "output_type": "stream",
     "text": [
      "The value of F is 36.88\n"
     ]
    }
   ],
   "source": [
    "F = S2t / S2E\n",
    "print(\"The value of F is {:.2f}\".format(F))"
   ]
  },
  {
   "cell_type": "markdown",
   "id": "1335087d",
   "metadata": {},
   "source": [
    "Let's double check the results with f_oneway:"
   ]
  },
  {
   "cell_type": "code",
   "execution_count": 17,
   "id": "4ffa8169",
   "metadata": {},
   "outputs": [
    {
     "data": {
      "text/plain": [
       "F_onewayResult(statistic=36.87895470100505, pvalue=7.506584272358903e-06)"
      ]
     },
     "execution_count": 17,
     "metadata": {},
     "output_type": "execute_result"
    }
   ],
   "source": [
    "st.f_oneway(pbeam[pbeam['Power'] == '160 W']['Etching Rate'],\n",
    "            pbeam[pbeam['Power'] == '180 W']['Etching Rate'],\n",
    "            pbeam[pbeam['Power'] == '200 W']['Etching Rate'])"
   ]
  },
  {
   "cell_type": "markdown",
   "id": "a9815f0f",
   "metadata": {},
   "source": [
    "**Conclusion:**\n",
    "\n",
    "As p-value is lower than 0.05, we **reject the null hypothesis** and conclude that the samples **are not equal**."
   ]
  }
 ],
 "metadata": {
  "kernelspec": {
   "display_name": "Python 3 (ipykernel)",
   "language": "python",
   "name": "python3"
  },
  "language_info": {
   "codemirror_mode": {
    "name": "ipython",
    "version": 3
   },
   "file_extension": ".py",
   "mimetype": "text/x-python",
   "name": "python",
   "nbconvert_exporter": "python",
   "pygments_lexer": "ipython3",
   "version": "3.9.12"
  }
 },
 "nbformat": 4,
 "nbformat_minor": 5
}
